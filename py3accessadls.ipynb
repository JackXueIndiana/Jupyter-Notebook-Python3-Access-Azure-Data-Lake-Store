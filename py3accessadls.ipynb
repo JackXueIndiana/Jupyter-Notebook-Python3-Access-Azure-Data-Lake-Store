{
 "cells": [
  {
   "cell_type": "markdown",
   "metadata": {
    "deletable": true,
    "editable": true
   },
   "source": [
    "** This is an example to show how to access Azure Data Lake Store from Python 3 **\n",
    "\n",
    "Jack Xue\n",
    "\n",
    "2018-08-13\n",
    "\n",
    "You need to first install three packages from Microsoft\n",
    "\n",
    "pip install azure-mgmt-resource\n",
    "\n",
    "pip install azure-mgmt-datalake-store\n",
    "\n",
    "pip install azure-datalake-store\n",
    "\n",
    "A good Microsfot document to follow is here: \n",
    "https://docs.microsoft.com/en-us/azure/data-lake-store/data-lake-store-data-operations-python\n",
    "\n",
    "The interactive login is discussed here:\n",
    "https://stackoverflow.com/questions/48208389/python-code-to-access-azure-data-lake-store"
   ]
  },
  {
   "cell_type": "code",
   "execution_count": 1,
   "metadata": {
    "collapsed": true,
    "deletable": true,
    "editable": true
   },
   "outputs": [],
   "source": [
    "## Use this only for Azure AD service-to-service authentication\n",
    "from azure.common.credentials import ServicePrincipalCredentials\n",
    "\n",
    "## Use this only for Azure AD end-user authentication\n",
    "from azure.common.credentials import UserPassCredentials\n",
    "\n",
    "## Use this only for Azure AD multi-factor authentication\n",
    "from msrestazure.azure_active_directory import AADTokenCredentials\n",
    "\n",
    "## Required for Azure Data Lake Store account management\n",
    "from azure.mgmt.datalake.store import DataLakeStoreAccountManagementClient\n",
    "from azure.mgmt.datalake.store.models import DataLakeStoreAccount\n",
    "\n",
    "## Required for Azure Data Lake Store filesystem management\n",
    "from azure.datalake.store import core, lib, multithread\n",
    "\n",
    "# Common Azure imports\n",
    "from azure.mgmt.resource.resources import ResourceManagementClient\n",
    "from azure.mgmt.resource.resources.models import ResourceGroup\n",
    "\n",
    "## Use these as needed for your application\n",
    "import logging, getpass, pprint, uuid, time"
   ]
  },
  {
   "cell_type": "code",
   "execution_count": 2,
   "metadata": {
    "collapsed": false,
    "deletable": true,
    "editable": true
   },
   "outputs": [
    {
     "name": "stdout",
     "output_type": "stream",
     "text": [
      "To sign in, use a web browser to open the page https://microsoft.com/devicelogin and enter the code A74HTDF9L to authenticate.\n"
     ]
    }
   ],
   "source": [
    "# You need to be interactive in order to log on in Microsoft Device Log-in Page\n",
    "# https://microsoft.com/devicelogin \n",
    "credentials = lib.auth()"
   ]
  },
  {
   "cell_type": "code",
   "execution_count": 3,
   "metadata": {
    "collapsed": true,
    "deletable": true,
    "editable": true
   },
   "outputs": [],
   "source": [
    "# Create a filesystem client object\n",
    "adlsFileSystemClient = core.AzureDLFileSystem(credentials, store_name='jacktestsbdls')"
   ]
  },
  {
   "cell_type": "code",
   "execution_count": 4,
   "metadata": {
    "collapsed": true,
    "deletable": true,
    "editable": true
   },
   "outputs": [],
   "source": [
    "# Create a directory\n",
    "adlsFileSystemClient.mkdir('/mysampledirectory')"
   ]
  },
  {
   "cell_type": "code",
   "execution_count": 5,
   "metadata": {
    "collapsed": false,
    "deletable": true,
    "editable": true
   },
   "outputs": [
    {
     "data": {
      "text/plain": [
       "<ADL Upload: C:\\Users\\xinxue\\data\\test.txt -> \\mysampledirectory\\mysamplefile.txt ({'finished': 1})>"
      ]
     },
     "execution_count": 5,
     "metadata": {},
     "output_type": "execute_result"
    }
   ],
   "source": [
    "## Upload a file\n",
    "multithread.ADLUploader(adlsFileSystemClient, lpath='C:\\\\Users\\\\xinxue\\\\data\\\\test.txt', rpath='/mysampledirectory/mysamplefile.txt', nthreads=64, overwrite=True, buffersize=4194304, blocksize=4194304)"
   ]
  },
  {
   "cell_type": "code",
   "execution_count": 6,
   "metadata": {
    "collapsed": false,
    "deletable": true,
    "editable": true
   },
   "outputs": [
    {
     "data": {
      "text/plain": [
       "<ADL Download: /mysampledirectory/mysamplefile.txt -> C:\\Users\\xinxue\\data\\mysamplefile.txt.out ({'finished': 1})>"
      ]
     },
     "execution_count": 6,
     "metadata": {},
     "output_type": "execute_result"
    }
   ],
   "source": [
    "## Download a file\n",
    "multithread.ADLDownloader(adlsFileSystemClient, lpath='C:\\\\Users\\\\xinxue\\\\data\\\\mysamplefile.txt.out', rpath='/mysampledirectory/mysamplefile.txt', nthreads=64, overwrite=True, buffersize=4194304, blocksize=4194304)"
   ]
  },
  {
   "cell_type": "code",
   "execution_count": 7,
   "metadata": {
    "collapsed": true,
    "deletable": true,
    "editable": true
   },
   "outputs": [],
   "source": [
    "## Delete a directory recusively, so we are totally cleaned out\n",
    "adlsFileSystemClient.rm('/mysampledirectory', recursive=True)"
   ]
  },
  {
   "cell_type": "code",
   "execution_count": null,
   "metadata": {
    "collapsed": true,
    "deletable": true,
    "editable": true
   },
   "outputs": [],
   "source": []
  }
 ],
 "metadata": {
  "kernelspec": {
   "display_name": "Python 3",
   "language": "python",
   "name": "python3"
  },
  "language_info": {
   "codemirror_mode": {
    "name": "ipython",
    "version": 3
   },
   "file_extension": ".py",
   "mimetype": "text/x-python",
   "name": "python",
   "nbconvert_exporter": "python",
   "pygments_lexer": "ipython3",
   "version": "3.6.1"
  }
 },
 "nbformat": 4,
 "nbformat_minor": 2
}
